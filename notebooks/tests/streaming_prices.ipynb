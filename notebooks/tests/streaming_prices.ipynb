{
 "cells": [
  {
   "cell_type": "code",
   "execution_count": null,
   "metadata": {},
   "outputs": [],
   "source": [
    "import requests\n",
    "import json"
   ]
  },
  {
   "cell_type": "code",
   "execution_count": null,
   "metadata": {},
   "outputs": [],
   "source": [
    "def get_token(fnm: str = \"/tmp/saxo_token\") -> str:\n",
    "    with open(fnm) as token_file:\n",
    "        return token_file.read()"
   ]
  },
  {
   "cell_type": "code",
   "execution_count": null,
   "metadata": {},
   "outputs": [],
   "source": [
    "hr24_token = get_token()\n",
    "token = f\"Bearer {hr24_token}\"\n",
    "headers = {\"Authorization\": token}"
   ]
  },
  {
   "cell_type": "code",
   "execution_count": null,
   "metadata": {},
   "outputs": [],
   "source": [
    "# payload = {\n",
    "#   \"Arguments\": {\n",
    "#     \"AccountKey\": \"PEJzEmgLw-TDkjJZBDNxSg==\",\n",
    "#     \"Amount\": 100000.0,\n",
    "#     \"AssetType\": \"FxVanillaOption\",\n",
    "#     \"ExpiryDate\": \"2022-06-01T00:00:00Z\",\n",
    "#     \"FieldGroups\": [\n",
    "#       \"DisplayAndFormat\",\n",
    "#       \"HistoricalChanges\",\n",
    "#       \"InstrumentPriceDetails\",\n",
    "#       \"Quote\"\n",
    "#     ],\n",
    "#     \"PutCall\": \"Call\",\n",
    "#     \"Uic\": 22\n",
    "#   },\n",
    "#   \"ContextId\": \"20220331030819340\",\n",
    "#   \"Format\": \"application/json\",\n",
    "#   \"ReferenceId\": \"IP64062\",\n",
    "#   \"RefreshRate\": 1000\n",
    "# }\n",
    "\n",
    "payload = {\n",
    "  \"Arguments\": {\n",
    "    \"AccountKey\": \"PEJzEmgLw-TDkjJZBDNxSg==\",\n",
    "    \"AssetType\": \"FxSpot\",\n",
    "    \"FieldGroups\": [\n",
    "      \"DisplayAndFormat\",\n",
    "      \"InstrumentPriceDetails\",\n",
    "      \"Quote\"\n",
    "    ],\n",
    "    \"Uic\": 17\n",
    "  },\n",
    "  \"ContextId\": \"20220331030819340\",\n",
    "  \"Format\": \"application/json\",\n",
    "  \"ReferenceId\": \"IP64062\",\n",
    "  \"RefreshRate\": 1000\n",
    "}"
   ]
  },
  {
   "cell_type": "code",
   "execution_count": null,
   "metadata": {},
   "outputs": [],
   "source": [
    "url = \"https://gateway.saxobank.com/sim/openapi/trade/v1/prices/subscriptions\"\n",
    "\n",
    "response = requests.post(url, headers=headers, json=payload, stream=True)\n",
    "print(response.status_code)\n",
    "for line in response.iter_lines():\n",
    "   if line:\n",
    "        print(json.loads(line))"
   ]
  },
  {
   "cell_type": "code",
   "execution_count": null,
   "metadata": {},
   "outputs": [],
   "source": []
  },
  {
   "cell_type": "code",
   "execution_count": null,
   "metadata": {},
   "outputs": [],
   "source": []
  }
 ],
 "metadata": {
  "interpreter": {
   "hash": "f6ed1c4f3856530411a67f3a4bee5801d35914361b42046baa121241f8387ce8"
  },
  "kernelspec": {
   "display_name": "Python 3.9.7 64-bit ('sxo': conda)",
   "name": "python3"
  },
  "language_info": {
   "codemirror_mode": {
    "name": "ipython",
    "version": 3
   },
   "file_extension": ".py",
   "mimetype": "text/x-python",
   "name": "python",
   "nbconvert_exporter": "python",
   "pygments_lexer": "ipython3",
   "version": "3.10.2"
  }
 },
 "nbformat": 4,
 "nbformat_minor": 2
}
