{
 "cells": [
  {
   "cell_type": "code",
   "execution_count": null,
   "metadata": {},
   "outputs": [],
   "source": [
    "import requests"
   ]
  },
  {
   "cell_type": "code",
   "execution_count": null,
   "metadata": {},
   "outputs": [],
   "source": [
    "def get_token(fnm: str = \"/tmp/saxo_token\") -> str:\n",
    "    with open(fnm) as token_file:\n",
    "        return token_file.read()"
   ]
  },
  {
   "cell_type": "code",
   "execution_count": null,
   "metadata": {},
   "outputs": [],
   "source": [
    "hr24_token = get_token()\n",
    "token = f\"Bearer {hr24_token}\"\n",
    "headers = {\"Authorization\": token}"
   ]
  },
  {
   "cell_type": "code",
   "execution_count": null,
   "metadata": {},
   "outputs": [],
   "source": [
    "url = \"https://gateway.saxobank.com/sim/openapi/port/v1/accounts/me\"\n",
    "# url = \"https://gateway.saxobank.com/sim/openapi/port/v1/clients/me\"\n",
    "# url = \"https://gateway.saxobank.com/sim/openapi/port/v1/users/me\"\n",
    "response = requests.get(url, headers=headers)\n",
    "response.json()"
   ]
  },
  {
   "cell_type": "code",
   "execution_count": null,
   "metadata": {},
   "outputs": [],
   "source": [
    "import datetime as dt\n",
    "\n",
    "account_key = \"PEJzEmgLw-TDkjJZBDNxSg==\"\n",
    "# MSFT\n",
    "# uic = \"18658678\"\n",
    "# asset_type = \"Stock\"\n",
    "# uic = \"31582\"\n",
    "# asset_type = \"CfdOnIndex\"\n",
    "uic = \"17\"\n",
    "asset_type = \"FxSpot\"\n",
    "\n",
    "# url=f\"https://gateway.saxobank.com/sim/openapi/trade/v1/infoprices/?Uic={uic}&AccountKey={AccountKey}&AssetType={AssetType}&Amount={Amount}&ForwardDate={ForwardDate}&ExpiryDate={ExpiryDate}&StrikePrice={StrikePrice}&OrderAskPrice={OrderAskPrice}&OrderBidPrice={OrderBidPrice}&LowerBarrier={LowerBarrier}&UpperBarrier={UpperBarrier}&PutCall={PutCall}&FieldGroups={FieldGroups}&AmountType={AmountType}&ForwardDateNearLeg={ForwardDateNearLeg}&ForwardDateFarLeg={ForwardDateFarLeg}&ToOpenClose={ToOpenClose}&QuoteCurrency={QuoteCurrency}\"\n",
    "url = f\"https://gateway.saxobank.com/sim/openapi/trade/v1/infoprices/list?Uics=3942,31,42&AssetType=FxSpot&FieldGroups=Quote,PriceInfoDetails,PriceInfo,MarketDepth,HistoricalChanges,Commissions\"\n",
    "\n",
    "print(url)\n",
    "response = requests.get(url, headers=headers)\n",
    "print(dt.datetime.now())\n",
    "response.json()"
   ]
  },
  {
   "cell_type": "code",
   "execution_count": null,
   "metadata": {},
   "outputs": [],
   "source": []
  },
  {
   "cell_type": "code",
   "execution_count": null,
   "metadata": {},
   "outputs": [],
   "source": []
  },
  {
   "cell_type": "code",
   "execution_count": null,
   "metadata": {},
   "outputs": [],
   "source": []
  },
  {
   "cell_type": "code",
   "execution_count": null,
   "metadata": {},
   "outputs": [],
   "source": []
  },
  {
   "cell_type": "code",
   "execution_count": null,
   "metadata": {},
   "outputs": [],
   "source": []
  },
  {
   "cell_type": "code",
   "execution_count": null,
   "metadata": {},
   "outputs": [],
   "source": []
  },
  {
   "cell_type": "code",
   "execution_count": null,
   "metadata": {},
   "outputs": [],
   "source": []
  }
 ],
 "metadata": {
  "interpreter": {
   "hash": "f6ed1c4f3856530411a67f3a4bee5801d35914361b42046baa121241f8387ce8"
  },
  "kernelspec": {
   "display_name": "Python 3.9.7 64-bit ('sxo': conda)",
   "name": "python3"
  },
  "language_info": {
   "codemirror_mode": {
    "name": "ipython",
    "version": 3
   },
   "file_extension": ".py",
   "mimetype": "text/x-python",
   "name": "python",
   "nbconvert_exporter": "python",
   "pygments_lexer": "ipython3",
   "version": "3.10.2"
  }
 },
 "nbformat": 4,
 "nbformat_minor": 2
}
