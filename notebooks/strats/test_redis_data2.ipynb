{
 "cells": [
  {
   "cell_type": "code",
   "execution_count": 2,
   "metadata": {},
   "outputs": [],
   "source": [
    "%reset -f\n",
    "\n",
    "import os\n",
    "import numpy as np\n",
    "import datetime as dt\n",
    "\n",
    "import plotly.graph_objects as go\n",
    "from plotly.graph_objects import Figure\n",
    "\n",
    "from plotly.graph_objects import Scatter\n",
    "from plotly.graph_objects import Ohlc\n",
    "\n",
    "\n",
    "from sxo.util.binning import bin_values\n",
    "\n",
    "from sxo.interface.entities.instruments import InstrumentUtil\n",
    "from sxo.apps.simple.persisted_quote import RedisQuote\n"
   ]
  },
  {
   "cell_type": "code",
   "execution_count": 3,
   "metadata": {},
   "outputs": [],
   "source": [
    "os.environ[\"REDIS_PASS\"] = \"boss\""
   ]
  },
  {
   "cell_type": "code",
   "execution_count": 4,
   "metadata": {},
   "outputs": [],
   "source": [
    "instr = InstrumentUtil.parse('FxSpot::GBPEUR')\n",
    "tick_db = RedisQuote(instr)\n",
    "df = tick_db.tail(np.timedelta64(12, 'h'))"
   ]
  },
  {
   "cell_type": "code",
   "execution_count": 6,
   "metadata": {},
   "outputs": [],
   "source": [
    "df['mid'] = (df['bid'].values + df['ask'].values) / 2\n",
    "df['wmid'] = (df['bid'].values * df['asz'].values + df['ask'].values * df['bsz'].values) / (df['asz'].values + df['bsz'].values)"
   ]
  },
  {
   "cell_type": "code",
   "execution_count": 11,
   "metadata": {},
   "outputs": [
    {
     "data": {
      "text/html": [
       "<div>\n",
       "<style scoped>\n",
       "    .dataframe tbody tr th:only-of-type {\n",
       "        vertical-align: middle;\n",
       "    }\n",
       "\n",
       "    .dataframe tbody tr th {\n",
       "        vertical-align: top;\n",
       "    }\n",
       "\n",
       "    .dataframe thead th {\n",
       "        text-align: right;\n",
       "    }\n",
       "</style>\n",
       "<table border=\"1\" class=\"dataframe\">\n",
       "  <thead>\n",
       "    <tr style=\"text-align: right;\">\n",
       "      <th></th>\n",
       "      <th>bin_start</th>\n",
       "      <th>bin_end</th>\n",
       "      <th>t0</th>\n",
       "      <th>t1</th>\n",
       "      <th>n_samples</th>\n",
       "      <th>o</th>\n",
       "      <th>h</th>\n",
       "      <th>l</th>\n",
       "      <th>c</th>\n",
       "      <th>twap</th>\n",
       "      <th>range</th>\n",
       "    </tr>\n",
       "  </thead>\n",
       "  <tbody>\n",
       "    <tr>\n",
       "      <th>6843</th>\n",
       "      <td>2023-10-16 17:28:30</td>\n",
       "      <td>2023-10-16 17:28:35</td>\n",
       "      <td>2023-10-16 17:28:30.164</td>\n",
       "      <td>2023-10-16 17:28:34.379</td>\n",
       "      <td>5</td>\n",
       "      <td>1.157177</td>\n",
       "      <td>1.157177</td>\n",
       "      <td>1.157115</td>\n",
       "      <td>1.157177</td>\n",
       "      <td>1.157134</td>\n",
       "      <td>0.000062</td>\n",
       "    </tr>\n",
       "    <tr>\n",
       "      <th>6844</th>\n",
       "      <td>2023-10-16 17:28:35</td>\n",
       "      <td>2023-10-16 17:28:40</td>\n",
       "      <td>2023-10-16 17:28:35.687</td>\n",
       "      <td>2023-10-16 17:28:38.151</td>\n",
       "      <td>4</td>\n",
       "      <td>1.157125</td>\n",
       "      <td>1.157125</td>\n",
       "      <td>1.157093</td>\n",
       "      <td>1.157103</td>\n",
       "      <td>1.157114</td>\n",
       "      <td>0.000032</td>\n",
       "    </tr>\n",
       "    <tr>\n",
       "      <th>6845</th>\n",
       "      <td>2023-10-16 17:28:40</td>\n",
       "      <td>2023-10-16 17:28:45</td>\n",
       "      <td>2023-10-16 17:28:40.035</td>\n",
       "      <td>2023-10-16 17:28:44.027</td>\n",
       "      <td>4</td>\n",
       "      <td>1.157103</td>\n",
       "      <td>1.157103</td>\n",
       "      <td>1.157103</td>\n",
       "      <td>1.157103</td>\n",
       "      <td>1.157103</td>\n",
       "      <td>0.000000</td>\n",
       "    </tr>\n",
       "    <tr>\n",
       "      <th>6846</th>\n",
       "      <td>2023-10-16 17:28:45</td>\n",
       "      <td>2023-10-16 17:28:50</td>\n",
       "      <td>2023-10-16 17:28:45.353</td>\n",
       "      <td>2023-10-16 17:28:49.036</td>\n",
       "      <td>4</td>\n",
       "      <td>1.157135</td>\n",
       "      <td>1.157155</td>\n",
       "      <td>1.157135</td>\n",
       "      <td>1.157155</td>\n",
       "      <td>1.157140</td>\n",
       "      <td>0.000020</td>\n",
       "    </tr>\n",
       "    <tr>\n",
       "      <th>6847</th>\n",
       "      <td>2023-10-16 17:28:50</td>\n",
       "      <td>2023-10-16 17:28:55</td>\n",
       "      <td>2023-10-16 17:28:50.707</td>\n",
       "      <td>2023-10-16 17:28:53.829</td>\n",
       "      <td>4</td>\n",
       "      <td>1.157135</td>\n",
       "      <td>1.157155</td>\n",
       "      <td>1.157135</td>\n",
       "      <td>1.157155</td>\n",
       "      <td>1.157150</td>\n",
       "      <td>0.000020</td>\n",
       "    </tr>\n",
       "  </tbody>\n",
       "</table>\n",
       "</div>"
      ],
      "text/plain": [
       "               bin_start             bin_end                      t0  \\\n",
       "6843 2023-10-16 17:28:30 2023-10-16 17:28:35 2023-10-16 17:28:30.164   \n",
       "6844 2023-10-16 17:28:35 2023-10-16 17:28:40 2023-10-16 17:28:35.687   \n",
       "6845 2023-10-16 17:28:40 2023-10-16 17:28:45 2023-10-16 17:28:40.035   \n",
       "6846 2023-10-16 17:28:45 2023-10-16 17:28:50 2023-10-16 17:28:45.353   \n",
       "6847 2023-10-16 17:28:50 2023-10-16 17:28:55 2023-10-16 17:28:50.707   \n",
       "\n",
       "                          t1  n_samples         o         h         l  \\\n",
       "6843 2023-10-16 17:28:34.379          5  1.157177  1.157177  1.157115   \n",
       "6844 2023-10-16 17:28:38.151          4  1.157125  1.157125  1.157093   \n",
       "6845 2023-10-16 17:28:44.027          4  1.157103  1.157103  1.157103   \n",
       "6846 2023-10-16 17:28:49.036          4  1.157135  1.157155  1.157135   \n",
       "6847 2023-10-16 17:28:53.829          4  1.157135  1.157155  1.157135   \n",
       "\n",
       "             c      twap     range  \n",
       "6843  1.157177  1.157134  0.000062  \n",
       "6844  1.157103  1.157114  0.000032  \n",
       "6845  1.157103  1.157103  0.000000  \n",
       "6846  1.157155  1.157140  0.000020  \n",
       "6847  1.157155  1.157150  0.000020  "
      ]
     },
     "execution_count": 11,
     "metadata": {},
     "output_type": "execute_result"
    }
   ],
   "source": [
    "bins = bin_values(df, 5, time_col='t', value_col='wmid')\n",
    "bins['range'] = bins['h'].values - bins['l'].values \n",
    "bins.tail(5)"
   ]
  },
  {
   "cell_type": "code",
   "execution_count": null,
   "metadata": {},
   "outputs": [],
   "source": []
  },
  {
   "cell_type": "code",
   "execution_count": 73,
   "metadata": {},
   "outputs": [],
   "source": [
    "\n",
    "# #df_plt = bid_ask.copy()[bid_ask.t > np.datetime64('2023-07-06 06:00:00')]\n",
    "# bin_plt = bins.copy()[bins.bin_start > np.datetime64('2023-07-06 12:00:00')]\n",
    "\n",
    "# fig = go.Figure(data=go.Ohlc(x=bin_plt['bin_start'],\n",
    "#                     open=bin_plt['o'],\n",
    "#                     high=bin_plt['h'],\n",
    "#                     low=bin_plt['l'],\n",
    "#                     close=bin_plt['c']))\n",
    "\n",
    "# fig.show()"
   ]
  },
  {
   "cell_type": "code",
   "execution_count": null,
   "metadata": {},
   "outputs": [],
   "source": []
  },
  {
   "cell_type": "code",
   "execution_count": null,
   "metadata": {},
   "outputs": [],
   "source": []
  },
  {
   "cell_type": "code",
   "execution_count": null,
   "metadata": {},
   "outputs": [],
   "source": []
  }
 ],
 "metadata": {
  "interpreter": {
   "hash": "f6ed1c4f3856530411a67f3a4bee5801d35914361b42046baa121241f8387ce8"
  },
  "kernelspec": {
   "display_name": "Python 3.9.7 64-bit ('sxo': conda)",
   "name": "python3"
  },
  "language_info": {
   "codemirror_mode": {
    "name": "ipython",
    "version": 3
   },
   "file_extension": ".py",
   "mimetype": "text/x-python",
   "name": "python",
   "nbconvert_exporter": "python",
   "pygments_lexer": "ipython3",
   "version": "3.11.6"
  }
 },
 "nbformat": 4,
 "nbformat_minor": 2
}
