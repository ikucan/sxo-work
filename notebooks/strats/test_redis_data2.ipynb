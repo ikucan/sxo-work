{
 "cells": [
  {
   "cell_type": "code",
   "execution_count": 90,
   "metadata": {},
   "outputs": [],
   "source": [
    "%reset -f\n",
    "\n",
    "import os\n",
    "import numpy as np\n",
    "import datetime as dt\n",
    "\n",
    "import plotly.graph_objects as go\n",
    "from plotly.graph_objects import Figure\n",
    "\n",
    "from plotly.graph_objects import Scatter\n",
    "from plotly.graph_objects import Ohlc\n",
    "\n",
    "\n",
    "from sxo.util.binning import bin_values\n",
    "\n",
    "from sxo.interface.entities.instruments import InstrumentUtil\n",
    "from sxo.apps.simple.persisted_quote import RedisQuote\n"
   ]
  },
  {
   "cell_type": "code",
   "execution_count": 91,
   "metadata": {},
   "outputs": [],
   "source": [
    "os.environ[\"REDIS_PASS\"] = \"boss\""
   ]
  },
  {
   "cell_type": "code",
   "execution_count": 92,
   "metadata": {},
   "outputs": [],
   "source": [
    "instr = InstrumentUtil.parse('FxSpot::GBPEUR')\n",
    "tick_db = RedisQuote(instr)\n",
    "df = tick_db.tail(np.timedelta64(12, 'h'))"
   ]
  },
  {
   "cell_type": "code",
   "execution_count": 93,
   "metadata": {},
   "outputs": [],
   "source": [
    "df['mid'] = (df['bid'].values + df['ask'].values) / 2\n",
    "df['wmid'] = (df['bid'].values * df['asz'].values + df['ask'].values * df['bsz'].values) / (df['asz'].values + df['bsz'].values)"
   ]
  },
  {
   "cell_type": "code",
   "execution_count": 94,
   "metadata": {},
   "outputs": [
    {
     "data": {
      "text/html": [
       "<div>\n",
       "<style scoped>\n",
       "    .dataframe tbody tr th:only-of-type {\n",
       "        vertical-align: middle;\n",
       "    }\n",
       "\n",
       "    .dataframe tbody tr th {\n",
       "        vertical-align: top;\n",
       "    }\n",
       "\n",
       "    .dataframe thead th {\n",
       "        text-align: right;\n",
       "    }\n",
       "</style>\n",
       "<table border=\"1\" class=\"dataframe\">\n",
       "  <thead>\n",
       "    <tr style=\"text-align: right;\">\n",
       "      <th></th>\n",
       "      <th>bin_start</th>\n",
       "      <th>bin_end</th>\n",
       "      <th>t0</th>\n",
       "      <th>t1</th>\n",
       "      <th>n_samples</th>\n",
       "      <th>o</th>\n",
       "      <th>h</th>\n",
       "      <th>l</th>\n",
       "      <th>c</th>\n",
       "      <th>twap</th>\n",
       "      <th>range</th>\n",
       "    </tr>\n",
       "  </thead>\n",
       "  <tbody>\n",
       "    <tr>\n",
       "      <th>109</th>\n",
       "      <td>2023-10-12 18:10:00</td>\n",
       "      <td>2023-10-12 18:15:00</td>\n",
       "      <td>2023-10-12 18:10:09.054</td>\n",
       "      <td>2023-10-12 18:14:59.808</td>\n",
       "      <td>113</td>\n",
       "      <td>1.156617</td>\n",
       "      <td>1.156676</td>\n",
       "      <td>1.156462</td>\n",
       "      <td>1.156646</td>\n",
       "      <td>1.156567</td>\n",
       "      <td>0.000214</td>\n",
       "    </tr>\n",
       "    <tr>\n",
       "      <th>110</th>\n",
       "      <td>2023-10-12 18:15:00</td>\n",
       "      <td>2023-10-12 18:20:00</td>\n",
       "      <td>2023-10-12 18:15:00.924</td>\n",
       "      <td>2023-10-12 18:19:57.966</td>\n",
       "      <td>256</td>\n",
       "      <td>1.156646</td>\n",
       "      <td>1.156780</td>\n",
       "      <td>1.156453</td>\n",
       "      <td>1.156686</td>\n",
       "      <td>1.156593</td>\n",
       "      <td>0.000327</td>\n",
       "    </tr>\n",
       "    <tr>\n",
       "      <th>111</th>\n",
       "      <td>2023-10-12 18:20:00</td>\n",
       "      <td>2023-10-12 18:25:00</td>\n",
       "      <td>2023-10-12 18:20:00.092</td>\n",
       "      <td>2023-10-12 18:20:42.557</td>\n",
       "      <td>40</td>\n",
       "      <td>1.156686</td>\n",
       "      <td>1.156818</td>\n",
       "      <td>1.156673</td>\n",
       "      <td>1.156716</td>\n",
       "      <td>1.156718</td>\n",
       "      <td>0.000145</td>\n",
       "    </tr>\n",
       "    <tr>\n",
       "      <th>112</th>\n",
       "      <td>2023-10-12 18:35:00</td>\n",
       "      <td>2023-10-12 18:40:00</td>\n",
       "      <td>2023-10-12 18:39:57.658</td>\n",
       "      <td>2023-10-12 18:39:59.161</td>\n",
       "      <td>2</td>\n",
       "      <td>1.156517</td>\n",
       "      <td>1.156517</td>\n",
       "      <td>1.156517</td>\n",
       "      <td>1.156517</td>\n",
       "      <td>1.156517</td>\n",
       "      <td>0.000000</td>\n",
       "    </tr>\n",
       "    <tr>\n",
       "      <th>113</th>\n",
       "      <td>2023-10-12 18:40:00</td>\n",
       "      <td>2023-10-12 18:45:00</td>\n",
       "      <td>2023-10-12 18:40:00.505</td>\n",
       "      <td>2023-10-12 18:41:44.072</td>\n",
       "      <td>89</td>\n",
       "      <td>1.156517</td>\n",
       "      <td>1.156551</td>\n",
       "      <td>1.156330</td>\n",
       "      <td>1.156392</td>\n",
       "      <td>1.156400</td>\n",
       "      <td>0.000221</td>\n",
       "    </tr>\n",
       "  </tbody>\n",
       "</table>\n",
       "</div>"
      ],
      "text/plain": [
       "              bin_start             bin_end                      t0  \\\n",
       "109 2023-10-12 18:10:00 2023-10-12 18:15:00 2023-10-12 18:10:09.054   \n",
       "110 2023-10-12 18:15:00 2023-10-12 18:20:00 2023-10-12 18:15:00.924   \n",
       "111 2023-10-12 18:20:00 2023-10-12 18:25:00 2023-10-12 18:20:00.092   \n",
       "112 2023-10-12 18:35:00 2023-10-12 18:40:00 2023-10-12 18:39:57.658   \n",
       "113 2023-10-12 18:40:00 2023-10-12 18:45:00 2023-10-12 18:40:00.505   \n",
       "\n",
       "                         t1  n_samples         o         h         l  \\\n",
       "109 2023-10-12 18:14:59.808        113  1.156617  1.156676  1.156462   \n",
       "110 2023-10-12 18:19:57.966        256  1.156646  1.156780  1.156453   \n",
       "111 2023-10-12 18:20:42.557         40  1.156686  1.156818  1.156673   \n",
       "112 2023-10-12 18:39:59.161          2  1.156517  1.156517  1.156517   \n",
       "113 2023-10-12 18:41:44.072         89  1.156517  1.156551  1.156330   \n",
       "\n",
       "            c      twap     range  \n",
       "109  1.156646  1.156567  0.000214  \n",
       "110  1.156686  1.156593  0.000327  \n",
       "111  1.156716  1.156718  0.000145  \n",
       "112  1.156517  1.156517  0.000000  \n",
       "113  1.156392  1.156400  0.000221  "
      ]
     },
     "execution_count": 94,
     "metadata": {},
     "output_type": "execute_result"
    }
   ],
   "source": [
    "bins = bin_values(df, 5*60, time_col='t', value_col='wmid')\n",
    "bins['range'] = bins['h'].values - bins['l'].values \n",
    "bins.tail(5)"
   ]
  },
  {
   "cell_type": "code",
   "execution_count": null,
   "metadata": {},
   "outputs": [],
   "source": []
  },
  {
   "cell_type": "code",
   "execution_count": 73,
   "metadata": {},
   "outputs": [],
   "source": [
    "\n",
    "# #df_plt = bid_ask.copy()[bid_ask.t > np.datetime64('2023-07-06 06:00:00')]\n",
    "# bin_plt = bins.copy()[bins.bin_start > np.datetime64('2023-07-06 12:00:00')]\n",
    "\n",
    "# fig = go.Figure(data=go.Ohlc(x=bin_plt['bin_start'],\n",
    "#                     open=bin_plt['o'],\n",
    "#                     high=bin_plt['h'],\n",
    "#                     low=bin_plt['l'],\n",
    "#                     close=bin_plt['c']))\n",
    "\n",
    "# fig.show()"
   ]
  },
  {
   "cell_type": "code",
   "execution_count": null,
   "metadata": {},
   "outputs": [],
   "source": []
  },
  {
   "cell_type": "code",
   "execution_count": null,
   "metadata": {},
   "outputs": [],
   "source": []
  },
  {
   "cell_type": "code",
   "execution_count": null,
   "metadata": {},
   "outputs": [],
   "source": []
  }
 ],
 "metadata": {
  "interpreter": {
   "hash": "f6ed1c4f3856530411a67f3a4bee5801d35914361b42046baa121241f8387ce8"
  },
  "kernelspec": {
   "display_name": "Python 3.9.7 64-bit ('sxo': conda)",
   "name": "python3"
  },
  "language_info": {
   "codemirror_mode": {
    "name": "ipython",
    "version": 3
   },
   "file_extension": ".py",
   "mimetype": "text/x-python",
   "name": "python",
   "nbconvert_exporter": "python",
   "pygments_lexer": "ipython3",
   "version": "3.11.6"
  }
 },
 "nbformat": 4,
 "nbformat_minor": 2
}
