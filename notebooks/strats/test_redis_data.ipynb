{
 "cells": [
  {
   "cell_type": "code",
   "execution_count": 17,
   "metadata": {},
   "outputs": [],
   "source": [
    "%reset -f\n",
    "\n",
    "import os\n",
    "import numpy as np\n",
    "import numba as  nb\n",
    "import pandas as pd\n",
    "\n",
    "\n",
    "import plotly.graph_objects as go\n",
    "from plotly.graph_objects import Figure\n",
    "\n",
    "from plotly.graph_objects import Scatter\n",
    "from plotly.graph_objects import Ohlc\n",
    "\n",
    "from sxo.util.binning import bin_values\n",
    "from sxo.util.runtime.timeseries import RedisTs"
   ]
  },
  {
   "cell_type": "code",
   "execution_count": 18,
   "metadata": {},
   "outputs": [],
   "source": [
    "os.environ[\"REDIS_PASS\"] = \"boss\""
   ]
  },
  {
   "cell_type": "code",
   "execution_count": 19,
   "metadata": {},
   "outputs": [],
   "source": [
    "ts_bid = RedisTs('ts_bid_FxSpot_GBPEUR')\n",
    "ts_ask = RedisTs('ts_ask_FxSpot_GBPEUR')\n",
    "ts_bsz = RedisTs('ts_bsz_FxSpot_GBPEUR')\n",
    "ts_asz = RedisTs('ts_asz_FxSpot_GBPEUR')\n",
    "bid = ts_bid.get_range(name='bid')\n",
    "ask = ts_ask.get_range(name='ask')\n",
    "bsz = ts_bid.get_range(name='bsz')\n",
    "asz = ts_ask.get_range(name='asz')\n",
    "bid_ask = bid.join(ask, how='inner').join(bsz, how='inner').join(asz, how='inner').reset_index()\n",
    "bid_ask['t'] = bid_ask['t'].values.astype('datetime64[ms]').astype('datetime64[ns]')\n"
   ]
  },
  {
   "cell_type": "code",
   "execution_count": 20,
   "metadata": {},
   "outputs": [],
   "source": [
    "bid_ask['mid'] = (bid_ask['bid'].values + bid_ask['ask'].values) / 2"
   ]
  },
  {
   "cell_type": "code",
   "execution_count": 21,
   "metadata": {},
   "outputs": [],
   "source": [
    "bid_ask.to_parquet('tmp.parq')\n",
    "#bid_ask = pd.read_parquet('tmp.parq')"
   ]
  },
  {
   "cell_type": "code",
   "execution_count": 22,
   "metadata": {},
   "outputs": [
    {
     "data": {
      "text/html": [
       "<div>\n",
       "<style scoped>\n",
       "    .dataframe tbody tr th:only-of-type {\n",
       "        vertical-align: middle;\n",
       "    }\n",
       "\n",
       "    .dataframe tbody tr th {\n",
       "        vertical-align: top;\n",
       "    }\n",
       "\n",
       "    .dataframe thead th {\n",
       "        text-align: right;\n",
       "    }\n",
       "</style>\n",
       "<table border=\"1\" class=\"dataframe\">\n",
       "  <thead>\n",
       "    <tr style=\"text-align: right;\">\n",
       "      <th></th>\n",
       "      <th>bin_start</th>\n",
       "      <th>bin_end</th>\n",
       "      <th>t0</th>\n",
       "      <th>t1</th>\n",
       "      <th>n_samples</th>\n",
       "      <th>o</th>\n",
       "      <th>h</th>\n",
       "      <th>l</th>\n",
       "      <th>c</th>\n",
       "      <th>twap</th>\n",
       "    </tr>\n",
       "  </thead>\n",
       "  <tbody>\n",
       "    <tr>\n",
       "      <th>43</th>\n",
       "      <td>2023-10-02 19:56:00</td>\n",
       "      <td>2023-10-02 19:57:00</td>\n",
       "      <td>2023-10-02 19:56:00.733</td>\n",
       "      <td>2023-10-02 19:56:57.442</td>\n",
       "      <td>31</td>\n",
       "      <td>1.153645</td>\n",
       "      <td>1.153725</td>\n",
       "      <td>1.153645</td>\n",
       "      <td>1.153695</td>\n",
       "      <td>1.153685</td>\n",
       "    </tr>\n",
       "    <tr>\n",
       "      <th>44</th>\n",
       "      <td>2023-10-02 19:57:00</td>\n",
       "      <td>2023-10-02 19:58:00</td>\n",
       "      <td>2023-10-02 19:57:03.034</td>\n",
       "      <td>2023-10-02 19:57:59.440</td>\n",
       "      <td>27</td>\n",
       "      <td>1.153665</td>\n",
       "      <td>1.153705</td>\n",
       "      <td>1.153655</td>\n",
       "      <td>1.153705</td>\n",
       "      <td>1.153691</td>\n",
       "    </tr>\n",
       "    <tr>\n",
       "      <th>45</th>\n",
       "      <td>2023-10-02 19:58:00</td>\n",
       "      <td>2023-10-02 19:59:00</td>\n",
       "      <td>2023-10-02 19:58:00.391</td>\n",
       "      <td>2023-10-02 19:58:58.877</td>\n",
       "      <td>43</td>\n",
       "      <td>1.153685</td>\n",
       "      <td>1.153715</td>\n",
       "      <td>1.153595</td>\n",
       "      <td>1.153615</td>\n",
       "      <td>1.153676</td>\n",
       "    </tr>\n",
       "    <tr>\n",
       "      <th>46</th>\n",
       "      <td>2023-10-02 19:59:00</td>\n",
       "      <td>2023-10-02 20:00:00</td>\n",
       "      <td>2023-10-02 19:59:00.241</td>\n",
       "      <td>2023-10-02 19:59:57.990</td>\n",
       "      <td>38</td>\n",
       "      <td>1.153605</td>\n",
       "      <td>1.153765</td>\n",
       "      <td>1.153585</td>\n",
       "      <td>1.153745</td>\n",
       "      <td>1.153644</td>\n",
       "    </tr>\n",
       "  </tbody>\n",
       "</table>\n",
       "</div>"
      ],
      "text/plain": [
       "             bin_start             bin_end                      t0   \n",
       "43 2023-10-02 19:56:00 2023-10-02 19:57:00 2023-10-02 19:56:00.733  \\\n",
       "44 2023-10-02 19:57:00 2023-10-02 19:58:00 2023-10-02 19:57:03.034   \n",
       "45 2023-10-02 19:58:00 2023-10-02 19:59:00 2023-10-02 19:58:00.391   \n",
       "46 2023-10-02 19:59:00 2023-10-02 20:00:00 2023-10-02 19:59:00.241   \n",
       "\n",
       "                        t1  n_samples         o         h         l         c   \n",
       "43 2023-10-02 19:56:57.442         31  1.153645  1.153725  1.153645  1.153695  \\\n",
       "44 2023-10-02 19:57:59.440         27  1.153665  1.153705  1.153655  1.153705   \n",
       "45 2023-10-02 19:58:58.877         43  1.153685  1.153715  1.153595  1.153615   \n",
       "46 2023-10-02 19:59:57.990         38  1.153605  1.153765  1.153585  1.153745   \n",
       "\n",
       "        twap  \n",
       "43  1.153685  \n",
       "44  1.153691  \n",
       "45  1.153676  \n",
       "46  1.153644  "
      ]
     },
     "execution_count": 22,
     "metadata": {},
     "output_type": "execute_result"
    }
   ],
   "source": [
    "\n",
    "bins = bin_values(bid_ask, 60, time_col='t', value_col='mid')\n",
    "bins.tail(4)"
   ]
  },
  {
   "cell_type": "code",
   "execution_count": 16,
   "metadata": {},
   "outputs": [
    {
     "data": {
      "application/vnd.plotly.v1+json": {
       "config": {
        "plotlyServerURL": "https://plot.ly"
       },
       "data": [
        {
         "close": [
          1.153985,
          1.153895,
          1.153925,
          1.153905,
          1.1538050000000002,
          1.1537250000000001,
          1.1538249999999999,
          1.1537449999999998,
          1.1537549999999999,
          1.153775,
          1.153775,
          1.153705,
          1.153695,
          1.1538050000000002,
          1.153835,
          1.153785,
          1.153765,
          1.1537449999999998,
          1.153785,
          1.153845,
          1.153855,
          1.153785,
          1.1537449999999998,
          1.1537549999999999,
          1.153675,
          1.1536650000000002,
          1.1536149999999998,
          1.153635,
          1.153695,
          1.1537449999999998,
          1.153635,
          1.153605,
          1.153605,
          1.1535449999999998,
          1.153445,
          1.153495,
          1.153495,
          1.153505,
          1.1535449999999998,
          1.153585,
          1.153645,
          1.153605,
          1.1536149999999998,
          1.153695,
          1.153705,
          1.153675
         ],
         "high": [
          1.1540050000000002,
          1.1540249999999999,
          1.153925,
          1.153925,
          1.1539350000000002,
          1.153835,
          1.1538249999999999,
          1.1538249999999999,
          1.153785,
          1.1537950000000001,
          1.153785,
          1.153705,
          1.153705,
          1.1538149999999998,
          1.153835,
          1.1538650000000001,
          1.1537950000000001,
          1.153765,
          1.153785,
          1.153855,
          1.1538849999999998,
          1.153785,
          1.1538249999999999,
          1.1537549999999999,
          1.153765,
          1.1536849999999998,
          1.1537449999999998,
          1.153645,
          1.1537250000000001,
          1.153765,
          1.1537350000000002,
          1.1536650000000002,
          1.153645,
          1.153575,
          1.1535449999999998,
          1.1535449999999998,
          1.1535250000000001,
          1.153515,
          1.1535549999999999,
          1.153585,
          1.153645,
          1.1536650000000002,
          1.153625,
          1.1537250000000001,
          1.153705,
          1.153715
         ],
         "low": [
          1.153965,
          1.153895,
          1.1538849999999998,
          1.153895,
          1.153765,
          1.153715,
          1.153715,
          1.1537449999999998,
          1.1537449999999998,
          1.1537250000000001,
          1.1537549999999999,
          1.153675,
          1.153645,
          1.1536849999999998,
          1.153765,
          1.153765,
          1.1537350000000002,
          1.1537449999999998,
          1.1537350000000002,
          1.153765,
          1.1538249999999999,
          1.153775,
          1.1537449999999998,
          1.1537250000000001,
          1.153675,
          1.1536650000000002,
          1.1536149999999998,
          1.1536149999999998,
          1.153645,
          1.1536849999999998,
          1.153625,
          1.1535950000000001,
          1.153605,
          1.1535250000000001,
          1.153425,
          1.153435,
          1.1534849999999999,
          1.1534749999999998,
          1.1534650000000002,
          1.153565,
          1.153605,
          1.1535950000000001,
          1.153505,
          1.153645,
          1.153655,
          1.153675
         ],
         "open": [
          1.153965,
          1.153985,
          1.153905,
          1.153905,
          1.153925,
          1.1538249999999999,
          1.153715,
          1.1538249999999999,
          1.1537549999999999,
          1.1537449999999998,
          1.153765,
          1.153695,
          1.153695,
          1.153705,
          1.1538149999999998,
          1.153845,
          1.153785,
          1.153765,
          1.153765,
          1.1538050000000002,
          1.1538249999999999,
          1.153775,
          1.153785,
          1.1537449999999998,
          1.1537549999999999,
          1.1536849999999998,
          1.153675,
          1.153625,
          1.153645,
          1.1536849999999998,
          1.1537350000000002,
          1.153645,
          1.153605,
          1.153575,
          1.1535449999999998,
          1.153435,
          1.153495,
          1.153505,
          1.153505,
          1.153565,
          1.153605,
          1.153645,
          1.153605,
          1.153645,
          1.1536650000000002,
          1.1536849999999998
         ],
         "type": "ohlc",
         "x": [
          "2023-10-02T18:26:00",
          "2023-10-02T18:27:00",
          "2023-10-02T18:28:00",
          "2023-10-02T18:29:00",
          "2023-10-02T18:30:00",
          "2023-10-02T18:31:00",
          "2023-10-02T18:32:00",
          "2023-10-02T18:33:00",
          "2023-10-02T18:34:00",
          "2023-10-02T18:35:00",
          "2023-10-02T18:36:00",
          "2023-10-02T18:42:00",
          "2023-10-02T18:43:00",
          "2023-10-02T18:44:00",
          "2023-10-02T18:45:00",
          "2023-10-02T18:46:00",
          "2023-10-02T18:47:00",
          "2023-10-02T18:48:00",
          "2023-10-02T18:49:00",
          "2023-10-02T18:50:00",
          "2023-10-02T18:51:00",
          "2023-10-02T19:34:00",
          "2023-10-02T19:35:00",
          "2023-10-02T19:36:00",
          "2023-10-02T19:37:00",
          "2023-10-02T19:38:00",
          "2023-10-02T19:39:00",
          "2023-10-02T19:40:00",
          "2023-10-02T19:41:00",
          "2023-10-02T19:42:00",
          "2023-10-02T19:43:00",
          "2023-10-02T19:44:00",
          "2023-10-02T19:45:00",
          "2023-10-02T19:46:00",
          "2023-10-02T19:47:00",
          "2023-10-02T19:48:00",
          "2023-10-02T19:49:00",
          "2023-10-02T19:50:00",
          "2023-10-02T19:51:00",
          "2023-10-02T19:52:00",
          "2023-10-02T19:53:00",
          "2023-10-02T19:54:00",
          "2023-10-02T19:55:00",
          "2023-10-02T19:56:00",
          "2023-10-02T19:57:00",
          "2023-10-02T19:58:00"
         ]
        }
       ],
       "layout": {
        "template": {
         "data": {
          "bar": [
           {
            "error_x": {
             "color": "#2a3f5f"
            },
            "error_y": {
             "color": "#2a3f5f"
            },
            "marker": {
             "line": {
              "color": "#E5ECF6",
              "width": 0.5
             },
             "pattern": {
              "fillmode": "overlay",
              "size": 10,
              "solidity": 0.2
             }
            },
            "type": "bar"
           }
          ],
          "barpolar": [
           {
            "marker": {
             "line": {
              "color": "#E5ECF6",
              "width": 0.5
             },
             "pattern": {
              "fillmode": "overlay",
              "size": 10,
              "solidity": 0.2
             }
            },
            "type": "barpolar"
           }
          ],
          "carpet": [
           {
            "aaxis": {
             "endlinecolor": "#2a3f5f",
             "gridcolor": "white",
             "linecolor": "white",
             "minorgridcolor": "white",
             "startlinecolor": "#2a3f5f"
            },
            "baxis": {
             "endlinecolor": "#2a3f5f",
             "gridcolor": "white",
             "linecolor": "white",
             "minorgridcolor": "white",
             "startlinecolor": "#2a3f5f"
            },
            "type": "carpet"
           }
          ],
          "choropleth": [
           {
            "colorbar": {
             "outlinewidth": 0,
             "ticks": ""
            },
            "type": "choropleth"
           }
          ],
          "contour": [
           {
            "colorbar": {
             "outlinewidth": 0,
             "ticks": ""
            },
            "colorscale": [
             [
              0,
              "#0d0887"
             ],
             [
              0.1111111111111111,
              "#46039f"
             ],
             [
              0.2222222222222222,
              "#7201a8"
             ],
             [
              0.3333333333333333,
              "#9c179e"
             ],
             [
              0.4444444444444444,
              "#bd3786"
             ],
             [
              0.5555555555555556,
              "#d8576b"
             ],
             [
              0.6666666666666666,
              "#ed7953"
             ],
             [
              0.7777777777777778,
              "#fb9f3a"
             ],
             [
              0.8888888888888888,
              "#fdca26"
             ],
             [
              1,
              "#f0f921"
             ]
            ],
            "type": "contour"
           }
          ],
          "contourcarpet": [
           {
            "colorbar": {
             "outlinewidth": 0,
             "ticks": ""
            },
            "type": "contourcarpet"
           }
          ],
          "heatmap": [
           {
            "colorbar": {
             "outlinewidth": 0,
             "ticks": ""
            },
            "colorscale": [
             [
              0,
              "#0d0887"
             ],
             [
              0.1111111111111111,
              "#46039f"
             ],
             [
              0.2222222222222222,
              "#7201a8"
             ],
             [
              0.3333333333333333,
              "#9c179e"
             ],
             [
              0.4444444444444444,
              "#bd3786"
             ],
             [
              0.5555555555555556,
              "#d8576b"
             ],
             [
              0.6666666666666666,
              "#ed7953"
             ],
             [
              0.7777777777777778,
              "#fb9f3a"
             ],
             [
              0.8888888888888888,
              "#fdca26"
             ],
             [
              1,
              "#f0f921"
             ]
            ],
            "type": "heatmap"
           }
          ],
          "heatmapgl": [
           {
            "colorbar": {
             "outlinewidth": 0,
             "ticks": ""
            },
            "colorscale": [
             [
              0,
              "#0d0887"
             ],
             [
              0.1111111111111111,
              "#46039f"
             ],
             [
              0.2222222222222222,
              "#7201a8"
             ],
             [
              0.3333333333333333,
              "#9c179e"
             ],
             [
              0.4444444444444444,
              "#bd3786"
             ],
             [
              0.5555555555555556,
              "#d8576b"
             ],
             [
              0.6666666666666666,
              "#ed7953"
             ],
             [
              0.7777777777777778,
              "#fb9f3a"
             ],
             [
              0.8888888888888888,
              "#fdca26"
             ],
             [
              1,
              "#f0f921"
             ]
            ],
            "type": "heatmapgl"
           }
          ],
          "histogram": [
           {
            "marker": {
             "pattern": {
              "fillmode": "overlay",
              "size": 10,
              "solidity": 0.2
             }
            },
            "type": "histogram"
           }
          ],
          "histogram2d": [
           {
            "colorbar": {
             "outlinewidth": 0,
             "ticks": ""
            },
            "colorscale": [
             [
              0,
              "#0d0887"
             ],
             [
              0.1111111111111111,
              "#46039f"
             ],
             [
              0.2222222222222222,
              "#7201a8"
             ],
             [
              0.3333333333333333,
              "#9c179e"
             ],
             [
              0.4444444444444444,
              "#bd3786"
             ],
             [
              0.5555555555555556,
              "#d8576b"
             ],
             [
              0.6666666666666666,
              "#ed7953"
             ],
             [
              0.7777777777777778,
              "#fb9f3a"
             ],
             [
              0.8888888888888888,
              "#fdca26"
             ],
             [
              1,
              "#f0f921"
             ]
            ],
            "type": "histogram2d"
           }
          ],
          "histogram2dcontour": [
           {
            "colorbar": {
             "outlinewidth": 0,
             "ticks": ""
            },
            "colorscale": [
             [
              0,
              "#0d0887"
             ],
             [
              0.1111111111111111,
              "#46039f"
             ],
             [
              0.2222222222222222,
              "#7201a8"
             ],
             [
              0.3333333333333333,
              "#9c179e"
             ],
             [
              0.4444444444444444,
              "#bd3786"
             ],
             [
              0.5555555555555556,
              "#d8576b"
             ],
             [
              0.6666666666666666,
              "#ed7953"
             ],
             [
              0.7777777777777778,
              "#fb9f3a"
             ],
             [
              0.8888888888888888,
              "#fdca26"
             ],
             [
              1,
              "#f0f921"
             ]
            ],
            "type": "histogram2dcontour"
           }
          ],
          "mesh3d": [
           {
            "colorbar": {
             "outlinewidth": 0,
             "ticks": ""
            },
            "type": "mesh3d"
           }
          ],
          "parcoords": [
           {
            "line": {
             "colorbar": {
              "outlinewidth": 0,
              "ticks": ""
             }
            },
            "type": "parcoords"
           }
          ],
          "pie": [
           {
            "automargin": true,
            "type": "pie"
           }
          ],
          "scatter": [
           {
            "fillpattern": {
             "fillmode": "overlay",
             "size": 10,
             "solidity": 0.2
            },
            "type": "scatter"
           }
          ],
          "scatter3d": [
           {
            "line": {
             "colorbar": {
              "outlinewidth": 0,
              "ticks": ""
             }
            },
            "marker": {
             "colorbar": {
              "outlinewidth": 0,
              "ticks": ""
             }
            },
            "type": "scatter3d"
           }
          ],
          "scattercarpet": [
           {
            "marker": {
             "colorbar": {
              "outlinewidth": 0,
              "ticks": ""
             }
            },
            "type": "scattercarpet"
           }
          ],
          "scattergeo": [
           {
            "marker": {
             "colorbar": {
              "outlinewidth": 0,
              "ticks": ""
             }
            },
            "type": "scattergeo"
           }
          ],
          "scattergl": [
           {
            "marker": {
             "colorbar": {
              "outlinewidth": 0,
              "ticks": ""
             }
            },
            "type": "scattergl"
           }
          ],
          "scattermapbox": [
           {
            "marker": {
             "colorbar": {
              "outlinewidth": 0,
              "ticks": ""
             }
            },
            "type": "scattermapbox"
           }
          ],
          "scatterpolar": [
           {
            "marker": {
             "colorbar": {
              "outlinewidth": 0,
              "ticks": ""
             }
            },
            "type": "scatterpolar"
           }
          ],
          "scatterpolargl": [
           {
            "marker": {
             "colorbar": {
              "outlinewidth": 0,
              "ticks": ""
             }
            },
            "type": "scatterpolargl"
           }
          ],
          "scatterternary": [
           {
            "marker": {
             "colorbar": {
              "outlinewidth": 0,
              "ticks": ""
             }
            },
            "type": "scatterternary"
           }
          ],
          "surface": [
           {
            "colorbar": {
             "outlinewidth": 0,
             "ticks": ""
            },
            "colorscale": [
             [
              0,
              "#0d0887"
             ],
             [
              0.1111111111111111,
              "#46039f"
             ],
             [
              0.2222222222222222,
              "#7201a8"
             ],
             [
              0.3333333333333333,
              "#9c179e"
             ],
             [
              0.4444444444444444,
              "#bd3786"
             ],
             [
              0.5555555555555556,
              "#d8576b"
             ],
             [
              0.6666666666666666,
              "#ed7953"
             ],
             [
              0.7777777777777778,
              "#fb9f3a"
             ],
             [
              0.8888888888888888,
              "#fdca26"
             ],
             [
              1,
              "#f0f921"
             ]
            ],
            "type": "surface"
           }
          ],
          "table": [
           {
            "cells": {
             "fill": {
              "color": "#EBF0F8"
             },
             "line": {
              "color": "white"
             }
            },
            "header": {
             "fill": {
              "color": "#C8D4E3"
             },
             "line": {
              "color": "white"
             }
            },
            "type": "table"
           }
          ]
         },
         "layout": {
          "annotationdefaults": {
           "arrowcolor": "#2a3f5f",
           "arrowhead": 0,
           "arrowwidth": 1
          },
          "autotypenumbers": "strict",
          "coloraxis": {
           "colorbar": {
            "outlinewidth": 0,
            "ticks": ""
           }
          },
          "colorscale": {
           "diverging": [
            [
             0,
             "#8e0152"
            ],
            [
             0.1,
             "#c51b7d"
            ],
            [
             0.2,
             "#de77ae"
            ],
            [
             0.3,
             "#f1b6da"
            ],
            [
             0.4,
             "#fde0ef"
            ],
            [
             0.5,
             "#f7f7f7"
            ],
            [
             0.6,
             "#e6f5d0"
            ],
            [
             0.7,
             "#b8e186"
            ],
            [
             0.8,
             "#7fbc41"
            ],
            [
             0.9,
             "#4d9221"
            ],
            [
             1,
             "#276419"
            ]
           ],
           "sequential": [
            [
             0,
             "#0d0887"
            ],
            [
             0.1111111111111111,
             "#46039f"
            ],
            [
             0.2222222222222222,
             "#7201a8"
            ],
            [
             0.3333333333333333,
             "#9c179e"
            ],
            [
             0.4444444444444444,
             "#bd3786"
            ],
            [
             0.5555555555555556,
             "#d8576b"
            ],
            [
             0.6666666666666666,
             "#ed7953"
            ],
            [
             0.7777777777777778,
             "#fb9f3a"
            ],
            [
             0.8888888888888888,
             "#fdca26"
            ],
            [
             1,
             "#f0f921"
            ]
           ],
           "sequentialminus": [
            [
             0,
             "#0d0887"
            ],
            [
             0.1111111111111111,
             "#46039f"
            ],
            [
             0.2222222222222222,
             "#7201a8"
            ],
            [
             0.3333333333333333,
             "#9c179e"
            ],
            [
             0.4444444444444444,
             "#bd3786"
            ],
            [
             0.5555555555555556,
             "#d8576b"
            ],
            [
             0.6666666666666666,
             "#ed7953"
            ],
            [
             0.7777777777777778,
             "#fb9f3a"
            ],
            [
             0.8888888888888888,
             "#fdca26"
            ],
            [
             1,
             "#f0f921"
            ]
           ]
          },
          "colorway": [
           "#636efa",
           "#EF553B",
           "#00cc96",
           "#ab63fa",
           "#FFA15A",
           "#19d3f3",
           "#FF6692",
           "#B6E880",
           "#FF97FF",
           "#FECB52"
          ],
          "font": {
           "color": "#2a3f5f"
          },
          "geo": {
           "bgcolor": "white",
           "lakecolor": "white",
           "landcolor": "#E5ECF6",
           "showlakes": true,
           "showland": true,
           "subunitcolor": "white"
          },
          "hoverlabel": {
           "align": "left"
          },
          "hovermode": "closest",
          "mapbox": {
           "style": "light"
          },
          "paper_bgcolor": "white",
          "plot_bgcolor": "#E5ECF6",
          "polar": {
           "angularaxis": {
            "gridcolor": "white",
            "linecolor": "white",
            "ticks": ""
           },
           "bgcolor": "#E5ECF6",
           "radialaxis": {
            "gridcolor": "white",
            "linecolor": "white",
            "ticks": ""
           }
          },
          "scene": {
           "xaxis": {
            "backgroundcolor": "#E5ECF6",
            "gridcolor": "white",
            "gridwidth": 2,
            "linecolor": "white",
            "showbackground": true,
            "ticks": "",
            "zerolinecolor": "white"
           },
           "yaxis": {
            "backgroundcolor": "#E5ECF6",
            "gridcolor": "white",
            "gridwidth": 2,
            "linecolor": "white",
            "showbackground": true,
            "ticks": "",
            "zerolinecolor": "white"
           },
           "zaxis": {
            "backgroundcolor": "#E5ECF6",
            "gridcolor": "white",
            "gridwidth": 2,
            "linecolor": "white",
            "showbackground": true,
            "ticks": "",
            "zerolinecolor": "white"
           }
          },
          "shapedefaults": {
           "line": {
            "color": "#2a3f5f"
           }
          },
          "ternary": {
           "aaxis": {
            "gridcolor": "white",
            "linecolor": "white",
            "ticks": ""
           },
           "baxis": {
            "gridcolor": "white",
            "linecolor": "white",
            "ticks": ""
           },
           "bgcolor": "#E5ECF6",
           "caxis": {
            "gridcolor": "white",
            "linecolor": "white",
            "ticks": ""
           }
          },
          "title": {
           "x": 0.05
          },
          "xaxis": {
           "automargin": true,
           "gridcolor": "white",
           "linecolor": "white",
           "ticks": "",
           "title": {
            "standoff": 15
           },
           "zerolinecolor": "white",
           "zerolinewidth": 2
          },
          "yaxis": {
           "automargin": true,
           "gridcolor": "white",
           "linecolor": "white",
           "ticks": "",
           "title": {
            "standoff": 15
           },
           "zerolinecolor": "white",
           "zerolinewidth": 2
          }
         }
        }
       }
      }
     },
     "metadata": {},
     "output_type": "display_data"
    }
   ],
   "source": [
    "import datetime as dt\n",
    "\n",
    "df_plt = bid_ask.copy()[bid_ask.t > np.datetime64('2023-07-06 06:00:00')]\n",
    "bin_plt = bins.copy()[bins.bin_start > np.datetime64('2023-07-06 12:00:00')]\n",
    "m = 15\n",
    "# fig = Figure(layout=go.Layout(height=500, margin={'t':m,'b':m,'l':m,'r':m}))\n",
    "# fig.add_traces(Scatter(x=df_plt['t'], y=df_plt['ask'], name='ask', mode=\"markers\", marker={'size':2},showlegend=False))\n",
    "# fig.add_traces(Scatter(x=df_plt['t'], y=df_plt['bid'], name='bid', mode=\"markers\", marker={'size':2},showlegend=False))\n",
    "#fig.add_traces(Scatter(x=bin_plt['bin_start'], y=bin_plt['twap'], name='bid', showlegend=False))\n",
    "\n",
    "# s, e, h, l  = bin_plt['bin_start'].values.astype(pd.Timestamp), bin_plt['bin_end'].values.astype(pd.Timestamp), bin_plt['h'].values, bin_plt['l'].values\n",
    "# i = 3\n",
    "# fig.add_traces(Scatter(x=[s[i], s[i], e[i], e[i], s[i]], y=[l[i], h[i], h[i], l[i], l[i]], fill='toself'))\n",
    "\n",
    "\n",
    "fig = go.Figure(data=go.Ohlc(x=bin_plt['bin_start'],\n",
    "                    open=bin_plt['o'],\n",
    "                    high=bin_plt['h'],\n",
    "                    low=bin_plt['l'],\n",
    "                    close=bin_plt['c']))\n",
    "\n",
    "# go.Ohlc(x=bin_plt['Date'],\n",
    "#                     open=df['AAPL.Open'],\n",
    "#                     high=df['AAPL.High'],\n",
    "#                     low=df['AAPL.Low'],\n",
    "#                     close=df['AAPL.Close']))\n",
    "\n",
    "#fig.add_traces(Scatter(x=df_plt['t'], y=(df_plt['bid'] + df_plt['ask'])/2, name='mid', mode=\"markers\", marker={'size':2, 'color':'black'},showlegend=False))\n",
    "fig.show()"
   ]
  },
  {
   "cell_type": "code",
   "execution_count": 9,
   "metadata": {},
   "outputs": [
    {
     "data": {
      "text/html": [
       "<div>\n",
       "<style scoped>\n",
       "    .dataframe tbody tr th:only-of-type {\n",
       "        vertical-align: middle;\n",
       "    }\n",
       "\n",
       "    .dataframe tbody tr th {\n",
       "        vertical-align: top;\n",
       "    }\n",
       "\n",
       "    .dataframe thead th {\n",
       "        text-align: right;\n",
       "    }\n",
       "</style>\n",
       "<table border=\"1\" class=\"dataframe\">\n",
       "  <thead>\n",
       "    <tr style=\"text-align: right;\">\n",
       "      <th></th>\n",
       "      <th>bin_start</th>\n",
       "      <th>bin_end</th>\n",
       "      <th>t0</th>\n",
       "      <th>t1</th>\n",
       "      <th>n_samples</th>\n",
       "      <th>o</th>\n",
       "      <th>h</th>\n",
       "      <th>l</th>\n",
       "      <th>c</th>\n",
       "      <th>twap</th>\n",
       "    </tr>\n",
       "  </thead>\n",
       "  <tbody>\n",
       "    <tr>\n",
       "      <th>0</th>\n",
       "      <td>2023-10-02 18:26:00</td>\n",
       "      <td>2023-10-02 18:27:00</td>\n",
       "      <td>2023-10-02 18:26:22.617</td>\n",
       "      <td>2023-10-02 18:26:39.664</td>\n",
       "      <td>10</td>\n",
       "      <td>1.153965</td>\n",
       "      <td>1.154005</td>\n",
       "      <td>1.153965</td>\n",
       "      <td>1.153985</td>\n",
       "      <td>1.153984</td>\n",
       "    </tr>\n",
       "    <tr>\n",
       "      <th>1</th>\n",
       "      <td>2023-10-02 18:27:00</td>\n",
       "      <td>2023-10-02 18:28:00</td>\n",
       "      <td>2023-10-02 18:27:02.894</td>\n",
       "      <td>2023-10-02 18:27:54.783</td>\n",
       "      <td>24</td>\n",
       "      <td>1.153985</td>\n",
       "      <td>1.154025</td>\n",
       "      <td>1.153895</td>\n",
       "      <td>1.153895</td>\n",
       "      <td>1.153965</td>\n",
       "    </tr>\n",
       "    <tr>\n",
       "      <th>2</th>\n",
       "      <td>2023-10-02 18:28:00</td>\n",
       "      <td>2023-10-02 18:29:00</td>\n",
       "      <td>2023-10-02 18:28:00.052</td>\n",
       "      <td>2023-10-02 18:28:57.541</td>\n",
       "      <td>14</td>\n",
       "      <td>1.153905</td>\n",
       "      <td>1.153925</td>\n",
       "      <td>1.153885</td>\n",
       "      <td>1.153925</td>\n",
       "      <td>1.153900</td>\n",
       "    </tr>\n",
       "    <tr>\n",
       "      <th>3</th>\n",
       "      <td>2023-10-02 18:29:00</td>\n",
       "      <td>2023-10-02 18:30:00</td>\n",
       "      <td>2023-10-02 18:29:00.012</td>\n",
       "      <td>2023-10-02 18:29:44.678</td>\n",
       "      <td>14</td>\n",
       "      <td>1.153905</td>\n",
       "      <td>1.153925</td>\n",
       "      <td>1.153895</td>\n",
       "      <td>1.153905</td>\n",
       "      <td>1.153907</td>\n",
       "    </tr>\n",
       "    <tr>\n",
       "      <th>4</th>\n",
       "      <td>2023-10-02 18:30:00</td>\n",
       "      <td>2023-10-02 18:31:00</td>\n",
       "      <td>2023-10-02 18:30:00.828</td>\n",
       "      <td>2023-10-02 18:30:57.687</td>\n",
       "      <td>26</td>\n",
       "      <td>1.153925</td>\n",
       "      <td>1.153935</td>\n",
       "      <td>1.153765</td>\n",
       "      <td>1.153805</td>\n",
       "      <td>1.153819</td>\n",
       "    </tr>\n",
       "    <tr>\n",
       "      <th>5</th>\n",
       "      <td>2023-10-02 18:31:00</td>\n",
       "      <td>2023-10-02 18:32:00</td>\n",
       "      <td>2023-10-02 18:31:00.884</td>\n",
       "      <td>2023-10-02 18:31:50.058</td>\n",
       "      <td>30</td>\n",
       "      <td>1.153825</td>\n",
       "      <td>1.153835</td>\n",
       "      <td>1.153715</td>\n",
       "      <td>1.153725</td>\n",
       "      <td>1.153767</td>\n",
       "    </tr>\n",
       "    <tr>\n",
       "      <th>6</th>\n",
       "      <td>2023-10-02 18:32:00</td>\n",
       "      <td>2023-10-02 18:33:00</td>\n",
       "      <td>2023-10-02 18:32:00.813</td>\n",
       "      <td>2023-10-02 18:32:55.815</td>\n",
       "      <td>27</td>\n",
       "      <td>1.153715</td>\n",
       "      <td>1.153825</td>\n",
       "      <td>1.153715</td>\n",
       "      <td>1.153825</td>\n",
       "      <td>1.153778</td>\n",
       "    </tr>\n",
       "    <tr>\n",
       "      <th>7</th>\n",
       "      <td>2023-10-02 18:33:00</td>\n",
       "      <td>2023-10-02 18:34:00</td>\n",
       "      <td>2023-10-02 18:33:01.114</td>\n",
       "      <td>2023-10-02 18:33:58.282</td>\n",
       "      <td>22</td>\n",
       "      <td>1.153825</td>\n",
       "      <td>1.153825</td>\n",
       "      <td>1.153745</td>\n",
       "      <td>1.153745</td>\n",
       "      <td>1.153793</td>\n",
       "    </tr>\n",
       "    <tr>\n",
       "      <th>8</th>\n",
       "      <td>2023-10-02 18:34:00</td>\n",
       "      <td>2023-10-02 18:35:00</td>\n",
       "      <td>2023-10-02 18:34:12.622</td>\n",
       "      <td>2023-10-02 18:34:57.326</td>\n",
       "      <td>24</td>\n",
       "      <td>1.153755</td>\n",
       "      <td>1.153785</td>\n",
       "      <td>1.153745</td>\n",
       "      <td>1.153755</td>\n",
       "      <td>1.153759</td>\n",
       "    </tr>\n",
       "    <tr>\n",
       "      <th>9</th>\n",
       "      <td>2023-10-02 18:35:00</td>\n",
       "      <td>2023-10-02 18:36:00</td>\n",
       "      <td>2023-10-02 18:35:00.510</td>\n",
       "      <td>2023-10-02 18:35:59.330</td>\n",
       "      <td>30</td>\n",
       "      <td>1.153745</td>\n",
       "      <td>1.153795</td>\n",
       "      <td>1.153725</td>\n",
       "      <td>1.153775</td>\n",
       "      <td>1.153760</td>\n",
       "    </tr>\n",
       "    <tr>\n",
       "      <th>10</th>\n",
       "      <td>2023-10-02 18:36:00</td>\n",
       "      <td>2023-10-02 18:37:00</td>\n",
       "      <td>2023-10-02 18:36:01.277</td>\n",
       "      <td>2023-10-02 18:36:28.363</td>\n",
       "      <td>17</td>\n",
       "      <td>1.153765</td>\n",
       "      <td>1.153785</td>\n",
       "      <td>1.153755</td>\n",
       "      <td>1.153775</td>\n",
       "      <td>1.153774</td>\n",
       "    </tr>\n",
       "  </tbody>\n",
       "</table>\n",
       "</div>"
      ],
      "text/plain": [
       "             bin_start             bin_end                      t0   \n",
       "0  2023-10-02 18:26:00 2023-10-02 18:27:00 2023-10-02 18:26:22.617  \\\n",
       "1  2023-10-02 18:27:00 2023-10-02 18:28:00 2023-10-02 18:27:02.894   \n",
       "2  2023-10-02 18:28:00 2023-10-02 18:29:00 2023-10-02 18:28:00.052   \n",
       "3  2023-10-02 18:29:00 2023-10-02 18:30:00 2023-10-02 18:29:00.012   \n",
       "4  2023-10-02 18:30:00 2023-10-02 18:31:00 2023-10-02 18:30:00.828   \n",
       "5  2023-10-02 18:31:00 2023-10-02 18:32:00 2023-10-02 18:31:00.884   \n",
       "6  2023-10-02 18:32:00 2023-10-02 18:33:00 2023-10-02 18:32:00.813   \n",
       "7  2023-10-02 18:33:00 2023-10-02 18:34:00 2023-10-02 18:33:01.114   \n",
       "8  2023-10-02 18:34:00 2023-10-02 18:35:00 2023-10-02 18:34:12.622   \n",
       "9  2023-10-02 18:35:00 2023-10-02 18:36:00 2023-10-02 18:35:00.510   \n",
       "10 2023-10-02 18:36:00 2023-10-02 18:37:00 2023-10-02 18:36:01.277   \n",
       "\n",
       "                        t1  n_samples         o         h         l         c   \n",
       "0  2023-10-02 18:26:39.664         10  1.153965  1.154005  1.153965  1.153985  \\\n",
       "1  2023-10-02 18:27:54.783         24  1.153985  1.154025  1.153895  1.153895   \n",
       "2  2023-10-02 18:28:57.541         14  1.153905  1.153925  1.153885  1.153925   \n",
       "3  2023-10-02 18:29:44.678         14  1.153905  1.153925  1.153895  1.153905   \n",
       "4  2023-10-02 18:30:57.687         26  1.153925  1.153935  1.153765  1.153805   \n",
       "5  2023-10-02 18:31:50.058         30  1.153825  1.153835  1.153715  1.153725   \n",
       "6  2023-10-02 18:32:55.815         27  1.153715  1.153825  1.153715  1.153825   \n",
       "7  2023-10-02 18:33:58.282         22  1.153825  1.153825  1.153745  1.153745   \n",
       "8  2023-10-02 18:34:57.326         24  1.153755  1.153785  1.153745  1.153755   \n",
       "9  2023-10-02 18:35:59.330         30  1.153745  1.153795  1.153725  1.153775   \n",
       "10 2023-10-02 18:36:28.363         17  1.153765  1.153785  1.153755  1.153775   \n",
       "\n",
       "        twap  \n",
       "0   1.153984  \n",
       "1   1.153965  \n",
       "2   1.153900  \n",
       "3   1.153907  \n",
       "4   1.153819  \n",
       "5   1.153767  \n",
       "6   1.153778  \n",
       "7   1.153793  \n",
       "8   1.153759  \n",
       "9   1.153760  \n",
       "10  1.153774  "
      ]
     },
     "execution_count": 9,
     "metadata": {},
     "output_type": "execute_result"
    }
   ],
   "source": [
    "bin_plt"
   ]
  },
  {
   "cell_type": "code",
   "execution_count": null,
   "metadata": {},
   "outputs": [],
   "source": []
  },
  {
   "cell_type": "code",
   "execution_count": null,
   "metadata": {},
   "outputs": [],
   "source": []
  },
  {
   "cell_type": "code",
   "execution_count": null,
   "metadata": {},
   "outputs": [],
   "source": []
  },
  {
   "cell_type": "code",
   "execution_count": null,
   "metadata": {},
   "outputs": [],
   "source": []
  },
  {
   "cell_type": "code",
   "execution_count": null,
   "metadata": {},
   "outputs": [],
   "source": []
  },
  {
   "cell_type": "code",
   "execution_count": null,
   "metadata": {},
   "outputs": [],
   "source": []
  },
  {
   "cell_type": "code",
   "execution_count": null,
   "metadata": {},
   "outputs": [],
   "source": []
  },
  {
   "cell_type": "code",
   "execution_count": null,
   "metadata": {},
   "outputs": [],
   "source": []
  },
  {
   "cell_type": "code",
   "execution_count": null,
   "metadata": {},
   "outputs": [],
   "source": []
  },
  {
   "cell_type": "code",
   "execution_count": null,
   "metadata": {},
   "outputs": [],
   "source": []
  }
 ],
 "metadata": {
  "interpreter": {
   "hash": "f6ed1c4f3856530411a67f3a4bee5801d35914361b42046baa121241f8387ce8"
  },
  "kernelspec": {
   "display_name": "Python 3.9.7 64-bit ('sxo': conda)",
   "name": "python3"
  },
  "language_info": {
   "codemirror_mode": {
    "name": "ipython",
    "version": 3
   },
   "file_extension": ".py",
   "mimetype": "text/x-python",
   "name": "python",
   "nbconvert_exporter": "python",
   "pygments_lexer": "ipython3",
   "version": "3.11.3"
  }
 },
 "nbformat": 4,
 "nbformat_minor": 2
}
