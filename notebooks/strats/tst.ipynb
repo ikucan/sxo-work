{
 "cells": [
  {
   "cell_type": "code",
   "execution_count": null,
   "metadata": {},
   "outputs": [],
   "source": [
    "from pathlib import Path\n",
    "import pandas as pd\n",
    "import numpy as np"
   ]
  },
  {
   "cell_type": "code",
   "execution_count": null,
   "metadata": {},
   "outputs": [],
   "source": [
    "root = Path(\"/data\")\n",
    "ccy = \"GBPEUR\"\n",
    "date = \"20230413\""
   ]
  },
  {
   "cell_type": "code",
   "execution_count": null,
   "metadata": {},
   "outputs": [],
   "source": [
    "df = pd.read_csv(root / ccy / f\"{ccy}-{date}.csv\", names=['t','bid','bsz','ask','asz',])\n",
    "df['t'] = np.char.rstrip(list(df.t.values), 'Z').astype(np.datetime64)\n",
    "df"
   ]
  },
  {
   "cell_type": "code",
   "execution_count": null,
   "metadata": {},
   "outputs": [],
   "source": [
    "\n",
    "def add_bin_col(df:pd.DataFrame, bin_size_sec:int, timestamp_col:str, bin_time_col:str = 'bin', copy:bool = True) -> pd.DataFrame:\n",
    "    retval = df.copy() if copy else df\n",
    "    #retval[bin_time_col] = retval[timestamp_col].values.astype(f\"datetime64[{bin_size_sec}s]\")\n",
    "    ts = retval[timestamp_col].values.astype(f\"datetime64[s]\")\n",
    "    retval[f\"{bin_time_col}_start\"] = ((ts.astype(np.int64)/bin_size_sec).astype(np.int64) * bin_size_sec).astype(\"datetime64[s]\")\n",
    "    retval[f\"{bin_time_col}_end\"] = retval[f\"{bin_time_col}_start\"].values + np.timedelta64(bin_size_sec, \"s\")\n",
    "\n",
    "    return retval\n",
    "\n",
    "add_bin_col(df, 5, \"t\", \"bin\")"
   ]
  },
  {
   "cell_type": "code",
   "execution_count": null,
   "metadata": {},
   "outputs": [],
   "source": [
    "df.t.values"
   ]
  },
  {
   "cell_type": "code",
   "execution_count": null,
   "metadata": {},
   "outputs": [],
   "source": [
    "np.char.rstrip([\"pythoX\", \"numpX\"], 'X')"
   ]
  },
  {
   "cell_type": "code",
   "execution_count": null,
   "metadata": {},
   "outputs": [],
   "source": []
  }
 ],
 "metadata": {
  "interpreter": {
   "hash": "f6ed1c4f3856530411a67f3a4bee5801d35914361b42046baa121241f8387ce8"
  },
  "kernelspec": {
   "display_name": "Python 3.9.7 64-bit ('sxo': conda)",
   "name": "python3"
  },
  "language_info": {
   "codemirror_mode": {
    "name": "ipython",
    "version": 3
   },
   "file_extension": ".py",
   "mimetype": "text/x-python",
   "name": "python",
   "nbconvert_exporter": "python",
   "pygments_lexer": "ipython3",
   "version": "3.11.3"
  }
 },
 "nbformat": 4,
 "nbformat_minor": 2
}
